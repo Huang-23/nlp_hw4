{
 "cells": [
  {
   "cell_type": "markdown",
   "metadata": {},
   "source": [
    "## 讀取中⽂語料庫檔案並轉換為繁體"
   ]
  },
  {
   "cell_type": "code",
   "execution_count": 1,
   "metadata": {},
   "outputs": [],
   "source": [
    "from opencc import OpenCC\n",
    "import json\n",
    "import re\n",
    "\n",
    "cc = OpenCC('s2twp')  # Initial (簡體中文 -> 繁體中文 (台灣, 包含慣用詞轉換))\n",
    "\n",
    "jsontext = []\n",
    "\n",
    "#讀取裡面有100個檔案的資料夾\n",
    "file = ['AA','AB','AC','AD','AE','AF','AG','AH','AI','AJ','AK','AL']\n",
    "for filename in file:\n",
    "    for i in range(100):\n",
    "        with open('/Users/Joanna/Downloads/wiki_zh/{}/wiki_{}'.format(filename, str(i).zfill(2)), 'r', encoding = 'utf-8') as f:\n",
    "            temp_jsontext = []\n",
    "            for line in f:\n",
    "                temp_jsontext = json.loads(line)\n",
    "                x = re.sub('\\s+', '', cc.convert(temp_jsontext['text']))\n",
    "                jsontext.append(re.sub('[^\\u4e00-\\u9fa5]+', ' ', x) + '\\n')\n",
    "                \n",
    "#讀取裡面有74個檔案的資料夾               \n",
    "for i in range(74):\n",
    "    with open('/Users/Joanna/Downloads/wiki_zh/AM/wiki_{}'.format(str(i).zfill(2)), 'r', encoding = 'utf-8') as f:\n",
    "        temp_jsontext = []\n",
    "        for line in f:\n",
    "            temp_jsontext = json.loads(line)\n",
    "            x = re.sub('\\s+', '', cc.convert(temp_jsontext['text']))\n",
    "            jsontext.append(re.sub('[^\\u4e00-\\u9fa5]+', ' ', x) + '\\n')\n",
    "\n",
    "#待分詞的txt\n",
    "with open('json_output.txt', 'w+') as f:\n",
    "    for seg in jsontext:\n",
    "        f.write(seg)            "
   ]
  },
  {
   "cell_type": "markdown",
   "metadata": {},
   "source": [
    "## 分詞"
   ]
  },
  {
   "cell_type": "code",
   "execution_count": 4,
   "metadata": {},
   "outputs": [
    {
     "name": "stderr",
     "output_type": "stream",
     "text": [
      "Building prefix dict from /Users/joanna/Desktop/new/dict.txt.big ...\n",
      "Loading model from cache /var/folders/vf/krhn1yxd4qzc9qr3b221ndq40000gn/T/jieba.u6c244a92398b34d07b481a09629a76d6.cache\n",
      "Loading model cost 1.084 seconds.\n",
      "Prefix dict has been built successfully.\n"
     ]
    }
   ],
   "source": [
    "import pandas as pd\n",
    "import jieba\n",
    "\n",
    "jieba.set_dictionary('dict.txt.big')  # 加入繁體中文詞庫\n",
    "\n",
    "# 讀取停用詞表\n",
    "stopwords = [line.strip() for line in open('stopwords.txt', 'r', encoding = 'utf-8').readlines()]\n",
    "\n",
    "# 創建訓練用txt檔\n",
    "training_file = open('training.txt', 'w', encoding = 'utf-8')\n",
    "with open('json_output.txt', 'r', encoding = 'utf-8') as f :\n",
    "    for line in f:\n",
    "        line = line.strip('\\n')\n",
    "        words = jieba.cut(line, cut_all = False)\n",
    "        for word in words:\n",
    "            if word not in stopwords:\n",
    "                training_file.write(word + ' ')\n",
    "        training_file.write('\\n')\n",
    "training_file.close()"
   ]
  },
  {
   "cell_type": "markdown",
   "metadata": {},
   "source": [
    "## 訓練"
   ]
  },
  {
   "cell_type": "code",
   "execution_count": 5,
   "metadata": {},
   "outputs": [
    {
     "name": "stderr",
     "output_type": "stream",
     "text": [
      "/Users/joanna/opt/anaconda3/lib/python3.8/site-packages/gensim/similarities/__init__.py:15: UserWarning: The gensim.similarities.levenshtein submodule is disabled, because the optional Levenshtein package <https://pypi.org/project/python-Levenshtein/> is unavailable. Install Levenhstein (e.g. `pip install python-Levenshtein`) to suppress this warning.\n",
      "  warnings.warn(msg)\n"
     ]
    }
   ],
   "source": [
    "from gensim.models import word2vec\n",
    "\n",
    "# Settings\n",
    "seed = 666\n",
    "sg = 0\n",
    "window_size = 10\n",
    "vector_size = 100\n",
    "min_count = 1\n",
    "workers = 8\n",
    "epochs = 5\n",
    "batch_words = 10000\n",
    "\n",
    "train_data = word2vec.LineSentence('training.txt')\n",
    "model = word2vec.Word2Vec(\n",
    "    train_data,\n",
    "    min_count=min_count,\n",
    "    vector_size=vector_size,\n",
    "    workers=workers,\n",
    "    epochs=epochs,\n",
    "    window=window_size,\n",
    "    sg=sg,\n",
    "    seed=seed,\n",
    "    batch_words=batch_words\n",
    ")\n",
    "\n",
    "model.save('word2vec.model')"
   ]
  }
 ],
 "metadata": {
  "kernelspec": {
   "display_name": "Python 3",
   "language": "python",
   "name": "python3"
  },
  "language_info": {
   "codemirror_mode": {
    "name": "ipython",
    "version": 3
   },
   "file_extension": ".py",
   "mimetype": "text/x-python",
   "name": "python",
   "nbconvert_exporter": "python",
   "pygments_lexer": "ipython3",
   "version": "3.8.5"
  }
 },
 "nbformat": 4,
 "nbformat_minor": 4
}
