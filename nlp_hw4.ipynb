{
 "cells": [
  {
   "cell_type": "markdown",
   "metadata": {},
   "source": [
    "## 讀取中⽂語料庫檔案並轉換為繁體"
   ]
  },
  {
   "cell_type": "code",
   "execution_count": 1,
   "metadata": {},
   "outputs": [],
   "source": [
    "from opencc import OpenCC\n",
    "import json\n",
    "import re\n",
    "\n",
    "cc = OpenCC('s2twp')  # Initial (簡體中文 -> 繁體中文 (台灣, 包含慣用詞轉換))\n",
    "\n",
    "jsontext = []\n",
    "\n",
    "#讀取裡面有100個檔案的資料夾\n",
    "file = ['AA','AB','AC','AD','AE','AF','AG','AH','AI','AJ','AK','AL']\n",
    "for filename in file:\n",
    "    for i in range(100):\n",
    "        with open('/Users/Joanna/Downloads/wiki_zh/{}/wiki_{}'.format(filename, str(i).zfill(2)), 'r', encoding = 'utf-8') as f:\n",
    "            temp_jsontext = []\n",
    "            for line in f:\n",
    "                temp_jsontext = json.loads(line)\n",
    "                x = re.sub('\\s+', '', cc.convert(temp_jsontext['text']))\n",
    "                jsontext.append(re.sub('[^\\u4e00-\\u9fa5]+', ' ', x) + '\\n')\n",
    "                \n",
    "#讀取裡面有74個檔案的資料夾               \n",
    "for i in range(74):\n",
    "    with open('/Users/Joanna/Downloads/wiki_zh/AM/wiki_{}'.format(str(i).zfill(2)), 'r', encoding = 'utf-8') as f:\n",
    "        temp_jsontext = []\n",
    "        for line in f:\n",
    "            temp_jsontext = json.loads(line)\n",
    "            x = re.sub('\\s+', '', cc.convert(temp_jsontext['text']))\n",
    "            jsontext.append(re.sub('[^\\u4e00-\\u9fa5]+', ' ', x) + '\\n')\n",
    "\n",
    "#待分詞的txt\n",
    "with open('json_output.txt', 'w+') as f:\n",
    "    for seg in jsontext:\n",
    "        f.write(seg)            "
   ]
  }
 ],
 "metadata": {
  "kernelspec": {
   "display_name": "Python 3",
   "language": "python",
   "name": "python3"
  },
  "language_info": {
   "codemirror_mode": {
    "name": "ipython",
    "version": 3
   },
   "file_extension": ".py",
   "mimetype": "text/x-python",
   "name": "python",
   "nbconvert_exporter": "python",
   "pygments_lexer": "ipython3",
   "version": "3.8.5"
  }
 },
 "nbformat": 4,
 "nbformat_minor": 4
}
