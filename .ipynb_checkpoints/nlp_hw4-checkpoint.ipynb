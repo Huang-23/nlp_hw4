{
 "cells": [
  {
   "cell_type": "markdown",
   "metadata": {},
   "source": [
    "## 讀取中⽂語料庫檔案並轉換為繁體"
   ]
  },
  {
   "cell_type": "code",
   "execution_count": 1,
   "metadata": {},
   "outputs": [],
   "source": [
    "from opencc import OpenCC\n",
    "import json\n",
    "import re\n",
    "\n",
    "cc = OpenCC('s2twp')  # Initial (簡體中文 -> 繁體中文 (台灣, 包含慣用詞轉換))\n",
    "\n",
    "jsontext = []\n",
    "\n",
    "#讀取裡面有100個檔案的資料夾\n",
    "file = ['AA','AB','AC','AD','AE','AF','AG','AH','AI','AJ','AK','AL']\n",
    "for filename in file:\n",
    "    for i in range(100):\n",
    "        with open('/Users/Joanna/Downloads/wiki_zh/{}/wiki_{}'.format(filename, str(i).zfill(2)), 'r', encoding = 'utf-8') as f:\n",
    "            temp_jsontext = []\n",
    "            for line in f:\n",
    "                temp_jsontext = json.loads(line)\n",
    "                x = re.sub('\\s+', '', cc.convert(temp_jsontext['text']))\n",
    "                jsontext.append(re.sub('[^\\u4e00-\\u9fa5]+', ' ', x) + '\\n')\n",
    "                \n",
    "#讀取裡面有74個檔案的資料夾               \n",
    "for i in range(74):\n",
    "    with open('/Users/Joanna/Downloads/wiki_zh/AM/wiki_{}'.format(str(i).zfill(2)), 'r', encoding = 'utf-8') as f:\n",
    "        temp_jsontext = []\n",
    "        for line in f:\n",
    "            temp_jsontext = json.loads(line)\n",
    "            x = re.sub('\\s+', '', cc.convert(temp_jsontext['text']))\n",
    "            jsontext.append(re.sub('[^\\u4e00-\\u9fa5]+', ' ', x) + '\\n')\n",
    "\n",
    "#待分詞的txt\n",
    "with open('json_output.txt', 'w+') as f:\n",
    "    for seg in jsontext:\n",
    "        f.write(seg)            "
   ]
  },
  {
   "cell_type": "markdown",
   "metadata": {},
   "source": [
    "## 分詞"
   ]
  },
  {
   "cell_type": "code",
   "execution_count": 4,
   "metadata": {},
   "outputs": [
    {
     "name": "stderr",
     "output_type": "stream",
     "text": [
      "Building prefix dict from /Users/joanna/Desktop/new/dict.txt.big ...\n",
      "Loading model from cache /var/folders/vf/krhn1yxd4qzc9qr3b221ndq40000gn/T/jieba.u6c244a92398b34d07b481a09629a76d6.cache\n",
      "Loading model cost 1.084 seconds.\n",
      "Prefix dict has been built successfully.\n"
     ]
    }
   ],
   "source": [
    "import pandas as pd\n",
    "import jieba\n",
    "\n",
    "jieba.set_dictionary('dict.txt.big')  # 加入繁體中文詞庫\n",
    "\n",
    "# 讀取停用詞表\n",
    "stopwords = [line.strip() for line in open('stopwords.txt', 'r', encoding = 'utf-8').readlines()]\n",
    "\n",
    "# 創建訓練用txt檔\n",
    "training_file = open('training.txt', 'w', encoding = 'utf-8')\n",
    "with open('json_output.txt', 'r', encoding = 'utf-8') as f :\n",
    "    for line in f:\n",
    "        line = line.strip('\\n')\n",
    "        words = jieba.cut(line, cut_all = False)\n",
    "        for word in words:\n",
    "            if word not in stopwords:\n",
    "                training_file.write(word + ' ')\n",
    "        training_file.write('\\n')\n",
    "training_file.close()"
   ]
  },
  {
   "cell_type": "markdown",
   "metadata": {},
   "source": [
    "## 訓練"
   ]
  },
  {
   "cell_type": "code",
   "execution_count": 5,
   "metadata": {},
   "outputs": [
    {
     "name": "stderr",
     "output_type": "stream",
     "text": [
      "/Users/joanna/opt/anaconda3/lib/python3.8/site-packages/gensim/similarities/__init__.py:15: UserWarning: The gensim.similarities.levenshtein submodule is disabled, because the optional Levenshtein package <https://pypi.org/project/python-Levenshtein/> is unavailable. Install Levenhstein (e.g. `pip install python-Levenshtein`) to suppress this warning.\n",
      "  warnings.warn(msg)\n"
     ]
    }
   ],
   "source": [
    "from gensim.models import word2vec\n",
    "\n",
    "# Settings\n",
    "seed = 666\n",
    "sg = 0\n",
    "window_size = 10\n",
    "vector_size = 100\n",
    "min_count = 1\n",
    "workers = 8\n",
    "epochs = 5\n",
    "batch_words = 10000\n",
    "\n",
    "train_data = word2vec.LineSentence('training.txt')\n",
    "model = word2vec.Word2Vec(\n",
    "    train_data,\n",
    "    min_count=min_count,\n",
    "    vector_size=vector_size,\n",
    "    workers=workers,\n",
    "    epochs=epochs,\n",
    "    window=window_size,\n",
    "    sg=sg,\n",
    "    seed=seed,\n",
    "    batch_words=batch_words\n",
    ")\n",
    "\n",
    "model.save('word2vec.model')"
   ]
  },
  {
   "cell_type": "markdown",
   "metadata": {},
   "source": [
    "## 模型輸出"
   ]
  },
  {
   "cell_type": "code",
   "execution_count": 9,
   "metadata": {},
   "outputs": [
    {
     "name": "stdout",
     "output_type": "stream",
     "text": [
      "('鋼琴', 0.8783912658691406)\n",
      "('大提琴', 0.860842764377594)\n",
      "('長笛', 0.835762619972229)\n",
      "('中提琴', 0.8118615746498108)\n",
      "('鋼琴演奏', 0.7967939376831055)\n",
      "('小提琴手', 0.7888822555541992)\n",
      "('彈奏', 0.7861415147781372)\n",
      "('單簧管', 0.7829861044883728)\n",
      "('獨奏', 0.7828001976013184)\n",
      "('低音提琴', 0.7813053131103516)\n",
      "('帕格尼尼', 0.7773812413215637)\n",
      "('鋼琴家', 0.7763457894325256)\n",
      "('演奏', 0.7750102281570435)\n",
      "('小號', 0.7736620306968689)\n",
      "('小提琴家', 0.7733774781227112)\n",
      "('演奏家', 0.7715063095092773)\n",
      "('絃樂', 0.7621024250984192)\n",
      "('長號', 0.7609114050865173)\n",
      "('提琴', 0.7523770928382874)\n",
      "('聲樂', 0.7518982291221619)\n"
     ]
    }
   ],
   "source": [
    "import numpy as np\n",
    "from gensim.models import word2vec\n",
    "\n",
    "model = word2vec.Word2Vec.load(\"word2vec.model\")  # Load model\n",
    "    \n",
    "padding = np.zeros((model.vector_size,), dtype = np.float32)  # Zero padding\n",
    "\n",
    "# Error process\n",
    "try:\n",
    "    #print(model.wv[\"小提琴\"].shape)\n",
    "    for item in model.wv.most_similar('小提琴',topn = 20):\n",
    "        print(item)\n",
    "except:\n",
    "    print(\"此詞彙不存在模型詞表\")\n",
    "    #print(padding.shape)"
   ]
  },
  {
   "cell_type": "code",
   "execution_count": null,
   "metadata": {},
   "outputs": [],
   "source": []
  }
 ],
 "metadata": {
  "kernelspec": {
   "display_name": "Python 3",
   "language": "python",
   "name": "python3"
  },
  "language_info": {
   "codemirror_mode": {
    "name": "ipython",
    "version": 3
   },
   "file_extension": ".py",
   "mimetype": "text/x-python",
   "name": "python",
   "nbconvert_exporter": "python",
   "pygments_lexer": "ipython3",
   "version": "3.8.5"
  }
 },
 "nbformat": 4,
 "nbformat_minor": 4
}
